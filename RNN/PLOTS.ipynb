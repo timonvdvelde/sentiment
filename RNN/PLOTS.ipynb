{
 "cells": [
  {
   "cell_type": "code",
   "execution_count": 12,
   "metadata": {},
   "outputs": [],
   "source": [
    "import pickle\n",
    "import collections\n",
    "import numpy as np\n",
    "from operator import itemgetter"
   ]
  },
  {
   "cell_type": "code",
   "execution_count": 6,
   "metadata": {},
   "outputs": [
    {
     "name": "stdout",
     "output_type": "stream",
     "text": [
      "LOADING COMPLETE\n"
     ]
    }
   ],
   "source": [
    "PATHS = ['./pickles_romeo/', './pickles_jorn/']\n",
    "DROPS = ['no_dropout/']\n",
    "DROPS_NAMES = {'dropout/': '', 'no_dropout/': ''}\n",
    "EMBES = ['GLOVE', 'OWN']\n",
    "EMBES_NAMES = {'GLOVE': 'pretrain', 'OWN': 'custom'}\n",
    "\n",
    "DIMS = ['200_', '25_']\n",
    "TYPES = ['train_accuracy_','validation_accuracy_', 'train_loss_', 'validation_loss_', 'val_length_acc_', 'val_document_acc_']\n",
    "\n",
    "stored_data = collections.defaultdict(list)\n",
    "index_string = [collections.defaultdict(list),collections.defaultdict(list),collections.defaultdict(list),collections.defaultdict(list), collections.defaultdict(list),collections.defaultdict(list)]\n",
    "model_string = [collections.defaultdict(list),collections.defaultdict(list),collections.defaultdict(list),collections.defaultdict(list), collections.defaultdict(list),collections.defaultdict(list)]\n",
    "\n",
    "\n",
    "for i, type_i in enumerate(TYPES):\n",
    "    counter = 0\n",
    "    for path in PATHS:\n",
    "        for drop in DROPS: \n",
    "            model = 'GRU'\n",
    "            if path == './pickles_romeo/': \n",
    "                model = 'LSTM'\n",
    "            for dim in DIMS:\n",
    "                for embed in EMBES:\n",
    "                    counter += 1\n",
    "#                     print(path + drop + type_i + dim + embed + model + '.pkl')\n",
    "                    with open(path + drop + type_i + dim + embed + model + '.pkl', 'rb') as f:\n",
    "                        data = pickle.load(f)\n",
    "                        stored_data[i].append(data)\n",
    "                        index_string[i][counter-1].append(model + '_' + DROPS_NAMES[drop] + dim + EMBES_NAMES[embed])\n",
    "                        model_string[i][counter-1].append(model)\n",
    "\n",
    "print(\"LOADING COMPLETE\")"
   ]
  },
  {
   "cell_type": "code",
   "execution_count": 7,
   "metadata": {},
   "outputs": [
    {
     "data": {
      "text/html": [
       "<iframe id=\"igraph\" scrolling=\"no\" style=\"border:none;\" seamless=\"seamless\" src=\"https://plot.ly/~romeogoosens94/7.embed\" height=\"525px\" width=\"100%\"></iframe>"
      ],
      "text/plain": [
       "<plotly.tools.PlotlyDisplay object>"
      ]
     },
     "execution_count": 7,
     "metadata": {},
     "output_type": "execute_result"
    }
   ],
   "source": [
    "import plotly.plotly as py\n",
    "import plotly.graph_objs as go\n",
    "import plotly\n",
    "plotly.tools.set_credentials_file(username='romeogoosens94', api_key='8GylUkYzmZau1E9yX2jC')\n",
    "\n",
    "number_of_points = 100\n",
    "color_map = ['#d50000', '#2962ff','#00c853','#ff6d00', '#81c784', '#ffb74d', '#90a4ae']\n",
    "\n",
    "tracers = []\n",
    "counter = 0\n",
    "start = 'LSTM'\n",
    "for i in range(0,1): \n",
    "    for idx, items in enumerate(stored_data[i]):  \n",
    "        if model_string[i][idx][0] != start:\n",
    "            start = 'GRU'\n",
    "            counter = 0 \n",
    "        trace = go.Scatter(\n",
    "            x = np.arange(0, items.reshape(number_of_points,-1).mean(axis=1).flatten().shape[0]) * 25,\n",
    "            y = items.reshape(number_of_points,-1).mean(axis=1).flatten(),\n",
    "            mode = 'lines',\n",
    "            name = index_string[i][idx][0],\n",
    "            legendgroup = model_string[i][idx][0],\n",
    "            line = dict(dash = 'dot', simplify=True, width = 1.5, color=color_map[counter % len(color_map)]) if model_string[i][idx][0] == 'LSTM' else dict(simplify=True, width = 1.5, color=color_map[counter % len(color_map)]) ,\n",
    "        )\n",
    "        tracers.append(trace)\n",
    "        counter += 1\n",
    "\n",
    "layout = go.Layout(\n",
    "    title='Accuracy of GRU and LSTM',\n",
    "    xaxis=dict(\n",
    "        title='Steps'\n",
    "    ),\n",
    "    yaxis=dict(\n",
    "        title='Accuracy'\n",
    "    )\n",
    ")\n",
    "\n",
    "fig = go.Figure(data=tracers, layout=layout)\n",
    "py.iplot(fig, filename='Accuracy')"
   ]
  },
  {
   "cell_type": "code",
   "execution_count": 8,
   "metadata": {},
   "outputs": [
    {
     "name": "stdout",
     "output_type": "stream",
     "text": [
      "LOADING COMPLETE\n"
     ]
    }
   ],
   "source": [
    "PATHS = ['./pickles_romeo/', './pickles_jorn/']\n",
    "DROPS = ['dropout/', 'no_dropout/']\n",
    "DROPS_NAMES = {'dropout/': '_dropout', 'no_dropout/': ''}\n",
    "EMBES = ['GLOVE', 'OWN']\n",
    "EMBES_NAMES = {'GLOVE': 'pretrain', 'OWN': 'custom'}\n",
    "\n",
    "DIMS = ['200_', '25_']\n",
    "TYPES = ['train_accuracy_','validation_accuracy_', 'train_loss_', 'validation_loss_', 'val_length_acc_', 'val_document_acc_']\n",
    "\n",
    "stored_data = collections.defaultdict(list)\n",
    "index_string = [collections.defaultdict(list),collections.defaultdict(list),collections.defaultdict(list),collections.defaultdict(list), collections.defaultdict(list),collections.defaultdict(list)]\n",
    "model_string = [collections.defaultdict(list),collections.defaultdict(list),collections.defaultdict(list),collections.defaultdict(list), collections.defaultdict(list),collections.defaultdict(list)]\n",
    "\n",
    "\n",
    "for i, type_i in enumerate(TYPES):\n",
    "    counter = 0\n",
    "    for path in PATHS:\n",
    "        for drop in DROPS: \n",
    "            model = 'GRU'\n",
    "            if path == './pickles_romeo/': \n",
    "                model = 'LSTM'\n",
    "            for dim in DIMS:\n",
    "                for embed in EMBES:\n",
    "                    counter += 1\n",
    "#                     print(path + drop + type_i + dim + embed + model + '.pkl')\n",
    "                    with open(path + drop + type_i + dim + embed + model + '.pkl', 'rb') as f:\n",
    "                        data = pickle.load(f)\n",
    "                        stored_data[i].append(data)\n",
    "                        index_string[i][counter-1].append(dim + EMBES_NAMES[embed])\n",
    "                        model_string[i][counter-1].append(model + DROPS_NAMES[drop])\n",
    "\n",
    "print(\"LOADING COMPLETE\")"
   ]
  },
  {
   "cell_type": "code",
   "execution_count": 9,
   "metadata": {},
   "outputs": [
    {
     "data": {
      "text/html": [
       "<iframe id=\"igraph\" scrolling=\"no\" style=\"border:none;\" seamless=\"seamless\" src=\"https://plot.ly/~romeogoosens94/17.embed\" height=\"525px\" width=\"100%\"></iframe>"
      ],
      "text/plain": [
       "<plotly.tools.PlotlyDisplay object>"
      ]
     },
     "execution_count": 9,
     "metadata": {},
     "output_type": "execute_result"
    }
   ],
   "source": [
    "import plotly.plotly as py\n",
    "import plotly.graph_objs as go\n",
    "import plotly\n",
    "plotly.tools.set_credentials_file(username='romeogoosens94', api_key='8GylUkYzmZau1E9yX2jC')\n",
    "\n",
    "number_of_points = 100\n",
    "color_map = ['#d50000', '#2962ff','#00c853','#ff6d00', '#81c784', '#ffb74d', '#90a4ae']\n",
    "\n",
    "tracers = []\n",
    "counter = 0\n",
    "start = 'LSTM_drop'\n",
    "for i in range(1,2): \n",
    "    x, y = [],[]\n",
    "    for idx, items in enumerate(stored_data[i]):  \n",
    "        \n",
    "        if model_string[i][idx][0] != start:\n",
    "           \n",
    "            trace = go.Bar(\n",
    "                x = x,\n",
    "                y = y,\n",
    "                name= start,\n",
    "            )\n",
    "\n",
    "            tracers.append(trace)\n",
    "            start = model_string[i][idx][0]\n",
    "            x, y = [], []\n",
    "        \n",
    "        x.append(index_string[i][idx][0])\n",
    "        y.append(np.array(items).max())\n",
    "\n",
    "    trace = go.Bar(\n",
    "        x = x,\n",
    "        y = y,\n",
    "        name= start,\n",
    "    )\n",
    "    tracers.append(trace)\n",
    "\n",
    "layout = go.Layout(\n",
    "    barmode='group',\n",
    "    title='Accuracy of GRU and LSTM',\n",
    "    yaxis=dict(\n",
    "        title='Accuracy'\n",
    "    )\n",
    ")\n",
    "\n",
    "fig = go.Figure(data=tracers, layout=layout)\n",
    "py.iplot(fig, filename='Bar Accuracy')"
   ]
  },
  {
   "cell_type": "code",
   "execution_count": 13,
   "metadata": {},
   "outputs": [
    {
     "name": "stdout",
     "output_type": "stream",
     "text": [
      "LOADING COMPLETE\n"
     ]
    }
   ],
   "source": [
    "PATHS = ['./pickles_romeo/', './pickles_jorn/']\n",
    "DROPS = ['dropout/', 'no_dropout/']\n",
    "DROPS_NAMES = {'dropout/': '_dropout', 'no_dropout/': ''}\n",
    "EMBES = ['GLOVE', 'OWN']\n",
    "EMBES_NAMES = {'GLOVE': 'pretrain', 'OWN': 'custom'}\n",
    "\n",
    "DIMS = ['200_', '25_']\n",
    "TYPES = ['train_accuracy_','validation_accuracy_', 'train_loss_', 'validation_loss_', 'val_length_acc_', 'val_document_acc_']\n",
    "\n",
    "stored_data = collections.defaultdict(list)\n",
    "index_string = [collections.defaultdict(list),collections.defaultdict(list),collections.defaultdict(list),collections.defaultdict(list), collections.defaultdict(list),collections.defaultdict(list)]\n",
    "model_string = [collections.defaultdict(list),collections.defaultdict(list),collections.defaultdict(list),collections.defaultdict(list), collections.defaultdict(list),collections.defaultdict(list)]\n",
    "\n",
    "\n",
    "for i, type_i in enumerate(TYPES):\n",
    "    counter = 0\n",
    "    for path in PATHS:\n",
    "        for drop in DROPS: \n",
    "            model = 'GRU'\n",
    "            if path == './pickles_romeo/': \n",
    "                model = 'LSTM'\n",
    "            for dim in DIMS:\n",
    "                for embed in EMBES:\n",
    "                    counter += 1\n",
    "#                     print(path + drop + type_i + dim + embed + model + '.pkl')\n",
    "                    with open(path + drop + type_i + dim + embed + model + '.pkl', 'rb') as f:\n",
    "                        data = pickle.load(f)\n",
    "                        stored_data[i].append(data)\n",
    "                        index_string[i][counter-1].append(dim + EMBES_NAMES[embed])\n",
    "                        model_string[i][counter-1].append(model + DROPS_NAMES[drop])\n",
    "\n",
    "print(\"LOADING COMPLETE\")"
   ]
  },
  {
   "cell_type": "code",
   "execution_count": 14,
   "metadata": {},
   "outputs": [
    {
     "name": "stdout",
     "output_type": "stream",
     "text": [
      "DONE MERGING\n"
     ]
    },
    {
     "data": {
      "text/html": [
       "<iframe id=\"igraph\" scrolling=\"no\" style=\"border:none;\" seamless=\"seamless\" src=\"https://plot.ly/~romeogoosens94/7.embed\" height=\"525px\" width=\"100%\"></iframe>"
      ],
      "text/plain": [
       "<plotly.tools.PlotlyDisplay object>"
      ]
     },
     "execution_count": 14,
     "metadata": {},
     "output_type": "execute_result"
    }
   ],
   "source": [
    "\n",
    "\n",
    "import plotly.plotly as py\n",
    "import plotly.graph_objs as go\n",
    "import plotly\n",
    "plotly.tools.set_credentials_file(username='romeogoosens94', api_key='8GylUkYzmZau1E9yX2jC')\n",
    "\n",
    "number_of_points = 100\n",
    "color_map = ['#d50000', '#2962ff','#00c853','#ff6d00', '#81c784', '#ffb74d', '#90a4ae']\n",
    "\n",
    "tracers = []\n",
    "counter = 0\n",
    "start = 'LSTM_drop'\n",
    "total_items = []\n",
    "for i in range(4,5): \n",
    "    x, y = [],[]\n",
    "\n",
    "    for idx, items in enumerate(stored_data[i]):  \n",
    "        if idx == 0:\n",
    "            total_items = items\n",
    "        else:\n",
    "            for key in list(items.keys()):\n",
    "                total_items[key] += items[key]\n",
    "            \n",
    "\n",
    "print(\"DONE MERGING\")\n",
    "val_length_acc = total_items\n",
    "x = list(val_length_acc.keys())\n",
    "x = x[:-1]\n",
    "x.sort()\n",
    "\n",
    "y = np.array(itemgetter(*x)(val_length_acc))\n",
    "\n",
    "trace2 = go.Scatter(\n",
    "    x = x,\n",
    "    y = [np.array(item).sum() / len(item) for item in y],\n",
    "    mode = 'markers',\n",
    "    name = 'Document Length vs Accuracy'\n",
    ")\n",
    "data = [trace2]\n",
    "py.iplot(data, filename='Accuracy')"
   ]
  },
  {
   "cell_type": "code",
   "execution_count": null,
   "metadata": {},
   "outputs": [],
   "source": []
  }
 ],
 "metadata": {
  "kernelspec": {
   "display_name": "Python 3",
   "language": "python",
   "name": "python3"
  },
  "language_info": {
   "codemirror_mode": {
    "name": "ipython",
    "version": 3
   },
   "file_extension": ".py",
   "mimetype": "text/x-python",
   "name": "python",
   "nbconvert_exporter": "python",
   "pygments_lexer": "ipython3",
   "version": "3.6.6"
  }
 },
 "nbformat": 4,
 "nbformat_minor": 2
}
